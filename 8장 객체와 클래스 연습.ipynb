{
 "cells": [
  {
   "cell_type": "code",
   "execution_count": 5,
   "metadata": {},
   "outputs": [
    {
     "name": "stdout",
     "output_type": "stream",
     "text": [
      "id : 1, password: 1234\n"
     ]
    }
   ],
   "source": [
    "class Member():\n",
    "    def setID(self, mid, psword):\n",
    "        self.mid=mid\n",
    "        self.psword = psword\n",
    "    def getID(self):\n",
    "        print (\"id : {}, password: {}\" .format(self.mid, self.psword))\n",
    "my_id = Member()\n",
    "my_id.setID(1,1234)\n",
    "my_id.getID()"
   ]
  },
  {
   "cell_type": "code",
   "execution_count": 18,
   "metadata": {},
   "outputs": [
    {
     "name": "stdout",
     "output_type": "stream",
     "text": [
      "id:1,password:1234\n"
     ]
    }
   ],
   "source": [
    "class Member():\n",
    "    def setID(self, mid, word):\n",
    "        self.mid=mid\n",
    "        self.word=word\n",
    "    def getID(self):\n",
    "        print(\"id:{0},password:{1}\" .format(self.mid, self.word))\n",
    "my_id=Member()\n",
    "my_id.setID(1,1234)\n",
    "my_id.getID()"
   ]
  },
  {
   "cell_type": "code",
   "execution_count": 13,
   "metadata": {},
   "outputs": [
    {
     "name": "stdout",
     "output_type": "stream",
     "text": [
      "--------------------\n",
      "Name:  Yuna Kim\n",
      "E-mail:  yunakim@naver.com\n",
      "Address:  Seoul\n",
      "--------------------\n"
     ]
    }
   ],
   "source": [
    "class BusinessCard:\n",
    "        def set_info(self, name, email, addr):\n",
    "                self.name = name\n",
    "                self.email = email\n",
    "                self.addr = addr\n",
    "        def print_info(self):\n",
    "                print(\"--------------------\")\n",
    "                print(\"Name: \", self.name)\n",
    "                print(\"E-mail: \", self.email)\n",
    "                print(\"Address: \", self.addr)\n",
    "                print(\"--------------------\")\n",
    "member1=BusinessCard()\n",
    "member1.set_info(\"Yuna Kim\", \"yunakim@naver.com\", \"Seoul\")\n",
    "member1.print_info()"
   ]
  },
  {
   "cell_type": "code",
   "execution_count": 1,
   "metadata": {},
   "outputs": [],
   "source": [
    "class Bicycle():\n",
    "    pass"
   ]
  },
  {
   "cell_type": "code",
   "execution_count": 2,
   "metadata": {},
   "outputs": [],
   "source": [
    "my_bike=Bicycle()"
   ]
  },
  {
   "cell_type": "code",
   "execution_count": 3,
   "metadata": {},
   "outputs": [],
   "source": [
    "my_bike.wheel_size=26\n",
    "my_bike.color='black'"
   ]
  },
  {
   "cell_type": "code",
   "execution_count": 4,
   "metadata": {},
   "outputs": [],
   "source": [
    "class Bicycle():\n",
    "    def move(self,speed):\n",
    "        print(\"자전거: 시속{}km 전진\".format(speed))\n",
    "    def turn(self,direction):\n",
    "        print(\"자전거:{}회전\".format(direction))\n",
    "    def stop(self):\n",
    "        print(\"자전거({},{}):정지\".format(self.wheel_size,self.color))"
   ]
  },
  {
   "cell_type": "code",
   "execution_count": 5,
   "metadata": {},
   "outputs": [
    {
     "name": "stdout",
     "output_type": "stream",
     "text": [
      "자전거: 시속20km 전진\n",
      "자전거:좌회전\n",
      "자전거(26,black):정지\n"
     ]
    }
   ],
   "source": [
    "my_bike=Bicycle()\n",
    "\n",
    "my_bike.wheel_size=26\n",
    "my_bike.color='black'\n",
    "\n",
    "my_bike.move(20)\n",
    "my_bike.turn('좌')\n",
    "my_bike.stop()"
   ]
  },
  {
   "cell_type": "markdown",
   "metadata": {},
   "source": [
    "# 사람이라는 클래스 선언-pass로 클래스의 형태만 만들기\n",
    "+ ‘지영’의 이름으로 객체 생성\n",
    "+ 객체의 속성 설정- 이름, 키만(몸무게는 뺍시다)\n",
    "+ 클래스에 함수 추가- 걷기, 뛰기, 앉기\n",
    "+ 객체에 메소드 호출\n"
   ]
  },
  {
   "cell_type": "code",
   "execution_count": 2,
   "metadata": {},
   "outputs": [],
   "source": [
    "class Person():\n",
    "    pass"
   ]
  },
  {
   "cell_type": "code",
   "execution_count": 16,
   "metadata": {},
   "outputs": [],
   "source": [
    "jyp=Person()"
   ]
  },
  {
   "cell_type": "code",
   "execution_count": 17,
   "metadata": {},
   "outputs": [],
   "source": [
    "jyp.name='지영'\n",
    "jyp.height=167"
   ]
  },
  {
   "cell_type": "code",
   "execution_count": 15,
   "metadata": {},
   "outputs": [],
   "source": [
    "class Person():\n",
    "    def walk(self, speed):\n",
    "        print(\"걷기 시속:{0}km\".format(speed))\n",
    "    def run(self, speed):\n",
    "        print(\"달리기 시속:{0}km\".format(speed))\n",
    "    def sitdown(self):\n",
    "        print(\"앉기\")"
   ]
  },
  {
   "cell_type": "code",
   "execution_count": 18,
   "metadata": {},
   "outputs": [
    {
     "name": "stdout",
     "output_type": "stream",
     "text": [
      "사람의 이름: 지영\n",
      "키: 167\n",
      "걷기 시속:4.5km\n",
      "달리기 시속:7km\n",
      "앉기\n"
     ]
    }
   ],
   "source": [
    "print(\"사람의 이름:\",jyp.name)\n",
    "print(\"키:\",jyp.height)\n",
    "\n",
    "jyp.walk(4.5)\n",
    "jyp.run(7)\n",
    "jyp.sitdown()"
   ]
  },
  {
   "cell_type": "code",
   "execution_count": 1,
   "metadata": {},
   "outputs": [],
   "source": [
    "class Person():\n",
    "    def walk(self, speed):\n",
    "        print(\"걷기 시속:{0}km\".format(speed))\n",
    "    def run(self, speed):\n",
    "        print(\"달리기 시속:{0}km\".format(speed))\n",
    "    def sitdown(self):\n",
    "        print(\"{}아 앉아라\".format(self.name))"
   ]
  },
  {
   "cell_type": "code",
   "execution_count": 2,
   "metadata": {},
   "outputs": [
    {
     "name": "stdout",
     "output_type": "stream",
     "text": [
      "사람의 이름: 지영\n",
      "키: 167\n",
      "걷기 시속:4.5km\n",
      "달리기 시속:7km\n",
      "지영아 앉아라\n"
     ]
    }
   ],
   "source": [
    "jyp=Person()\n",
    "\n",
    "jyp.name='지영'\n",
    "jyp.height=167\n",
    "\n",
    "print(\"사람의 이름:\",jyp.name)\n",
    "print(\"키:\",jyp.height)\n",
    "\n",
    "jyp.walk(4.5)\n",
    "jyp.run(7)\n",
    "jyp.sitdown()"
   ]
  },
  {
   "cell_type": "code",
   "execution_count": 8,
   "metadata": {},
   "outputs": [],
   "source": [
    "class Person():\n",
    "    def __init__(self, name, height):\n",
    "        self.name=name\n",
    "        self.height=height\n",
    "    def walk(self, speed):\n",
    "        print(\"걷기 시속:{0}km\".format(speed))\n",
    "    def run(self, speed):\n",
    "        print(\"달리기 시속:{0}km\".format(speed))\n",
    "    def sitdown(self):\n",
    "        print(\"{}아 앉아라\".format(self.name))"
   ]
  },
  {
   "cell_type": "code",
   "execution_count": 9,
   "metadata": {},
   "outputs": [
    {
     "name": "stdout",
     "output_type": "stream",
     "text": [
      "걷기 시속:4.5km\n",
      "달리기 시속:7km\n",
      "지영아 앉아라\n"
     ]
    }
   ],
   "source": [
    "jyp=Person('지영','167')\n",
    "\n",
    "jyp.walk(4.5)\n",
    "jyp.run(7)\n",
    "jyp.sitdown()"
   ]
  },
  {
   "cell_type": "code",
   "execution_count": 1,
   "metadata": {},
   "outputs": [],
   "source": [
    "class Bike():\n",
    "    count=0 # 클래스 변수 생성 및 초기화& 자전거의 총 개수 세는 변수\n",
    "\n",
    "    def __init__(self,size,num):\n",
    "        self.size=size #인스턴스 변수 생성 및 초기화 & 자전거 사이즈\n",
    "        self.count=num #인스턴스 변수 생성 및 초기화 & 자전거 바퀴 수\n",
    "        Bike.count=Bike.count+1 #클래스 변수 이용\n",
    "        print(\"자전거 객체의 수: Bike.count={}\".format(Bike.count))\n",
    "        print(\"자전거 바퀴의 개수:self.count={}\".format(self.count))\n",
    "        print(\"{}크기의 {}발 자전거가 움직입니다.\\n\".format(self.size,self.count))\n",
    "        \n",
    "    def amount(self):\n",
    "        print(\"총 자전거의 개수는 {}개 입니다\".format(Bike.count))"
   ]
  },
  {
   "cell_type": "code",
   "execution_count": 2,
   "metadata": {},
   "outputs": [
    {
     "name": "stdout",
     "output_type": "stream",
     "text": [
      "자전거 객체의 수: Bike.count=1\n",
      "자전거 바퀴의 개수:self.count=2\n",
      "big크기의 2발 자전거가 움직입니다.\n",
      "\n",
      "총 자전거의 개수는 1개 입니다\n"
     ]
    }
   ],
   "source": [
    "bike1=Bike(\"big\",2)\n",
    "bike1.amount()"
   ]
  },
  {
   "cell_type": "code",
   "execution_count": 3,
   "metadata": {},
   "outputs": [
    {
     "name": "stdout",
     "output_type": "stream",
     "text": [
      "자전거 객체의 수: Bike.count=2\n",
      "자전거 바퀴의 개수:self.count=4\n",
      "small크기의 4발 자전거가 움직입니다.\n",
      "\n",
      "\n",
      "자전거 객체의 수: Bike.count=3\n",
      "자전거 바퀴의 개수:self.count=3\n",
      "big크기의 3발 자전거가 움직입니다.\n",
      "\n",
      "\n",
      "자전거 객체의 수: Bike.count=4\n",
      "자전거 바퀴의 개수:self.count=1\n",
      "Super big크기의 1발 자전거가 움직입니다.\n",
      "\n",
      "\n",
      "총 자전거의 개수는 4개 입니다\n",
      "총 자전거의 개수는 4개 입니다\n"
     ]
    }
   ],
   "source": [
    "bike2=Bike(\"small\",4)\n",
    "print()\n",
    "bike3=Bike(\"big\",3)\n",
    "print()\n",
    "jy_bike=Bike(\"Super big\",1)\n",
    "print()\n",
    "jy_bike.amount()\n",
    "bike2.amount()#클래스 변수이기 때문에 총 자전거의 개수를 나타낸다."
   ]
  },
  {
   "cell_type": "code",
   "execution_count": 1,
   "metadata": {},
   "outputs": [],
   "source": [
    "#Bike 클래스 선언\n",
    "class Bike():\n",
    "    count=0 # 클래스 변수 생성 및 초기화& 자전거의 총 개수 세는 변수\n",
    "\n",
    "    #초기화 함수(인스턴스 메서드)\n",
    "    def __init__(self):\n",
    "        Bike.count=Bike.count+1 #클래스 변수 이용\n",
    "        print(\"총 자전거의 개수는 {}개 입니다\".format(Bike.count))\n",
    "    \n",
    "    #인스턴스 메서드\n",
    "    def bike_info(self,size,color,num):\n",
    "        self.size=size #인스턴스 변수 생성 및 초기화 & 자전거 사이즈\n",
    "        self.color=color #인스턴스 변수 생성 및 초기화 & 자전거 색\n",
    "        self.count=num #인스턴스 변수 생성 및 초기화 & 자전거 바퀴 수\n",
    "        print(\"자전거 객체의 수: Bike.count={}\".format(Bike.count))\n",
    "        print(\"자전거 바퀴의 개수:self.count={}\".format(self.count))\n",
    "        print(\"{}크기의 {}색 {}발 자전거가 움직입니다.\".format(self.size,self.color,self.count))\n",
    "   \n",
    "    #인스턴스 메서드\n",
    "    def destination(self,des):\n",
    "        self.des=des #인스턴스 변수 생성 및 초기화\n",
    "        self.bike_info(self.size,self.color,self.count) #bike() 함수의 인자로 인스턴스 변수를 입력\n",
    "        print(\"목적지는 {}입니다.\".format(self.des))"
   ]
  },
  {
   "cell_type": "code",
   "execution_count": 2,
   "metadata": {},
   "outputs": [
    {
     "name": "stdout",
     "output_type": "stream",
     "text": [
      "총 자전거의 개수는 1개 입니다\n",
      "총 자전거의 개수는 2개 입니다\n",
      "\n",
      "자전거 객체의 수: Bike.count=2\n",
      "자전거 바퀴의 개수:self.count=2\n",
      "big크기의 red색 2발 자전거가 움직입니다.\n",
      "\n",
      "자전거 객체의 수: Bike.count=2\n",
      "자전거 바퀴의 개수:self.count=4\n",
      "small크기의 black색 4발 자전거가 움직입니다.\n",
      "\n",
      "자전거 객체의 수: Bike.count=2\n",
      "자전거 바퀴의 개수:self.count=4\n",
      "small크기의 black색 4발 자전거가 움직입니다.\n",
      "목적지는 우리집입니다.\n"
     ]
    }
   ],
   "source": [
    "bike1=Bike()\n",
    "bike2=Bike()\n",
    "print()\n",
    "bike1.bike_info(\"big\",\"red\",2) #객체 (bike1)의 bike_info() 메서드 호출\n",
    "print()\n",
    "bike2.bike_info(\"small\",\"black\",4)#객체 (bike2)의 bike_info() 메서드 호출\n",
    "print()\n",
    "bike2.destination(\"우리집\")#객체 (bike2)의 destination() 메서드 호출"
   ]
  },
  {
   "cell_type": "code",
   "execution_count": 1,
   "metadata": {},
   "outputs": [],
   "source": [
    "#Bike 클래스 선언\n",
    "class Bike():\n",
    "    count=0 # 클래스 변수 생성 및 초기화& 자전거의 총 개수 세는 변수\n",
    "\n",
    "    #초기화 함수(인스턴스 메서드)\n",
    "    def __init__(self):\n",
    "        Bike.count=Bike.count+1 #클래스 변수 이용\n",
    "        print(\"총 자전거의 개수는 {}개 입니다\".format(Bike.count))\n",
    "    \n",
    "    #인스턴스 메서드\n",
    "    def bike_info(self,size,color,num):\n",
    "        self.size=size #인스턴스 변수 생성 및 초기화 & 자전거 사이즈\n",
    "        self.color=color #인스턴스 변수 생성 및 초기화 & 자전거 색\n",
    "        self.count=num #인스턴스 변수 생성 및 초기화 & 자전거 바퀴 수\n",
    "        print(\"자전거 객체의 수: Bike.count={}\".format(Bike.count))\n",
    "        print(\"자전거 바퀴의 개수:self.count={}\".format(self.count))\n",
    "        print(\"{}크기의 {}색 {}발 자전거가 움직입니다.\".format(self.size,self.color,self.count))\n",
    "   \n",
    "    #인스턴스 메서드\n",
    "    def destination(self,des):\n",
    "        self.des=des #인스턴스 변수 생성 및 초기화\n",
    "        self.bike_info(self.size,self.color,self.count) #bike() 함수의 인자로 인스턴스 변수를 입력\n",
    "        print(\"목적지는 {}입니다.\".format(self.des))\n",
    "    \n",
    "    #정적 메서드\n",
    "    @staticmethod\n",
    "    def check_type(model_code):\n",
    "        if(model_code>=20):\n",
    "            print(\"이 자전거는 전기자전거입니다.\")\n",
    "        else:\n",
    "            print(\"이 자전거는 일반 자전거 입니다.\")\n",
    "    "
   ]
  },
  {
   "cell_type": "code",
   "execution_count": 2,
   "metadata": {},
   "outputs": [
    {
     "name": "stdout",
     "output_type": "stream",
     "text": [
      "이 자전거는 전기자전거입니다.\n"
     ]
    }
   ],
   "source": [
    "Bike.check_type(50)"
   ]
  },
  {
   "cell_type": "code",
   "execution_count": 1,
   "metadata": {},
   "outputs": [],
   "source": [
    "#Bike 클래스 선언\n",
    "class Bike():\n",
    "    count=0 # 클래스 변수 생성 및 초기화& 자전거의 총 개수 세는 변수\n",
    "\n",
    "    #초기화 함수(인스턴스 메서드)\n",
    "    def __init__(self):\n",
    "        Bike.count=Bike.count+1 #클래스 변수 이용\n",
    "    #인스턴스 메서드\n",
    "    def bike_info(self,size,color,num):\n",
    "        self.size=size #인스턴스 변수 생성 및 초기화 & 자전거 사이즈\n",
    "        self.color=color #인스턴스 변수 생성 및 초기화 & 자전거 색\n",
    "        self.count=num #인스턴스 변수 생성 및 초기화 & 자전거 바퀴 수\n",
    "        print(\"자전거 객체의 수: Bike.count={}\".format(Bike.count))\n",
    "        print(\"자전거 바퀴의 개수:self.count={}\".format(self.count))\n",
    "        print(\"{}크기의 {}색 {}발 자전거가 움직입니다.\".format(self.size,self.color,self.count))\n",
    "   \n",
    "    #인스턴스 메서드\n",
    "    def destination(self,des):\n",
    "        self.des=des #인스턴스 변수 생성 및 초기화\n",
    "        self.bike_info(self.size,self.color,self.count) #bike() 함수의 인자로 인스턴스 변수를 입력\n",
    "        print(\"목적지는 {}입니다.\".format(self.des))\n",
    "    \n",
    "    #정적 메서드\n",
    "    @staticmethod\n",
    "    def check_type(model_code):\n",
    "        if(model_code>=20):\n",
    "            print(\"이 자전거는 전기자전거입니다.\")\n",
    "        else:\n",
    "            print(\"이 자전거는 일반 자전거 입니다.\")\n",
    "    \n",
    "    #클래스 메서드\n",
    "    @classmethod\n",
    "    def count_instance(cls):\n",
    "         print(\"총 자전거의 개수는 {}개 입니다\".format(Bike.count))"
   ]
  },
  {
   "cell_type": "code",
   "execution_count": 2,
   "metadata": {},
   "outputs": [
    {
     "name": "stdout",
     "output_type": "stream",
     "text": [
      "총 자전거의 개수는 0개 입니다\n",
      "총 자전거의 개수는 3개 입니다\n"
     ]
    }
   ],
   "source": [
    "Bike.count_instance() #객체 생선 전에 클래스 메서드 호출\n",
    "\n",
    "bike1=Bike()\n",
    "bike2=Bike()\n",
    "bike3=Bike()\n",
    "\n",
    "Bike.count_instance()"
   ]
  },
  {
   "cell_type": "code",
   "execution_count": null,
   "metadata": {},
   "outputs": [],
   "source": []
  },
  {
   "cell_type": "code",
   "execution_count": null,
   "metadata": {},
   "outputs": [],
   "source": [
    "jyp_name='박지영'\n",
    "def jyp_score_sum(Korean1,Math1,English1):\n",
    "    sum1=Korean1+Math1+English1\n",
    "    print(\"{}의 총합점수={}\".format(jyp_name,sum1))\n",
    "jyp_score_sum(100,100,100)\n",
    "\n",
    "jik_name='김지인'\n",
    "def jik_score_sum(Korean2,Math2,English2):\n",
    "    sum2=Korean2+Math2+English2\n",
    "    print(\"{}의 총합점수={}\".format(jik_name,sum2))\n",
    "jik_score_sum(99,99,99)"
   ]
  },
  {
   "cell_type": "code",
   "execution_count": null,
   "metadata": {},
   "outputs": [],
   "source": [
    "class score():\n",
    "\n",
    "    def __init__(self,name):\n",
    "        self.name=name\n",
    "    \n",
    "    def exam_sum(self,Korean,Math,English):\n",
    "        self.Korean=Korean\n",
    "        self.Math=Math\n",
    "        self.English=English\n",
    "        score.ex_sum=self.Korean+self.Math+self.English\n",
    "        print(\"{}의 총합점수={}\".format(self.name,score.ex_sum))"
   ]
  },
  {
   "cell_type": "code",
   "execution_count": 3,
   "metadata": {},
   "outputs": [
    {
     "name": "stdout",
     "output_type": "stream",
     "text": [
      "박지영의 총합점수=300\n",
      "김지인의 총합점수=297\n"
     ]
    }
   ],
   "source": [
    "jyp=score(\"박지영\")\n",
    "jyp.exam_sum(100,100,100)\n",
    "\n",
    "jik=score(\"김지인\")\n",
    "jik.exam_sum(99,99,99)"
   ]
  },
  {
   "cell_type": "code",
   "execution_count": 1,
   "metadata": {},
   "outputs": [],
   "source": [
    "#부모클래스\n",
    "class Person():\n",
    "    def __init__(self, name, age):\n",
    "        self.name=name\n",
    "        self.age=age\n",
    "    def info(self):\n",
    "        print(\"{}의 나이:{}\".format(self.name,self.age))"
   ]
  },
  {
   "cell_type": "code",
   "execution_count": 2,
   "metadata": {},
   "outputs": [],
   "source": [
    "#자식클래스 1 Student\n",
    "class Student(Person):\n",
    "    def __init__(self,name,age,grade):#Student 초기화\n",
    "        Person.__init__(self,name,age) #Person의 초기화 재사용\n",
    "        #super().__init__(self,name,age) #super도 사용 가능\n",
    "        self.grade=grade #자식 클래스에서 새로 추가한 변수\n",
    "    \n",
    "    def student_info(self):\n",
    "        Person.info(self)#부모클래스의 함수도 사용 가능\n",
    "        print(\"{}학년\".format(self.grade))"
   ]
  },
  {
   "cell_type": "code",
   "execution_count": 3,
   "metadata": {},
   "outputs": [
    {
     "name": "stdout",
     "output_type": "stream",
     "text": [
      "박지영의 나이:21\n",
      "\n",
      "박지영의 나이:21\n",
      "2학년\n"
     ]
    }
   ],
   "source": [
    "jyp=Student(\"박지영\",21,2)\n",
    "\n",
    "jyp.info() #부모 클래스의 함수 호출\n",
    "print()\n",
    "jyp.student_info() #자식 클래스의 함수 호출"
   ]
  },
  {
   "cell_type": "code",
   "execution_count": 4,
   "metadata": {},
   "outputs": [],
   "source": [
    "#자식클래스 2 Teacher\n",
    "class Teacher(Person):\n",
    "    def __init__(self,name,age,major):\n",
    "        Person.__init__(self,name,age)\n",
    "        self.major=major\n",
    "    \n",
    "    def info(self): #함수의 이름이 같다면\n",
    "        Person.info(self) #부모클래스의 함수도 쓰고\n",
    "        print(\"과목은 {}이다\".format(self.major)) #새로운 정보도 추가하고"
   ]
  },
  {
   "cell_type": "code",
   "execution_count": 5,
   "metadata": {},
   "outputs": [
    {
     "name": "stdout",
     "output_type": "stream",
     "text": [
      "박결의 나이:28\n",
      "과목은 수학이다\n"
     ]
    }
   ],
   "source": [
    "pk=Teacher('박결',28,'수학')\n",
    "pk.info()"
   ]
  },
  {
   "cell_type": "code",
   "execution_count": null,
   "metadata": {},
   "outputs": [],
   "source": []
  }
 ],
 "metadata": {
  "kernelspec": {
   "display_name": "Python 3",
   "language": "python",
   "name": "python3"
  },
  "language_info": {
   "codemirror_mode": {
    "name": "ipython",
    "version": 3
   },
   "file_extension": ".py",
   "mimetype": "text/x-python",
   "name": "python",
   "nbconvert_exporter": "python",
   "pygments_lexer": "ipython3",
   "version": "3.7.3"
  }
 },
 "nbformat": 4,
 "nbformat_minor": 2
}
